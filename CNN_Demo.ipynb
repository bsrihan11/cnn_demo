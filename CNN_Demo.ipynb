{
  "nbformat": 4,
  "nbformat_minor": 0,
  "metadata": {
    "colab": {
      "provenance": [],
      "gpuType": "T4"
    },
    "kernelspec": {
      "name": "python3",
      "display_name": "Python 3"
    },
    "language_info": {
      "name": "python"
    },
    "accelerator": "GPU"
  },
  "cells": [
    {
      "cell_type": "code",
      "execution_count": null,
      "metadata": {
        "id": "wR8wufY9kHkX"
      },
      "outputs": [],
      "source": [
        "import torch\n",
        "import torch.nn as nn\n",
        "import torch.optim as optim\n",
        "import torch.nn.functional as F\n",
        "from torch.utils.data import DataLoader, Dataset\n",
        "\n",
        "import torchvision\n",
        "from torchvision import datasets, transforms\n",
        "\n",
        "import matplotlib.pyplot as plt"
      ]
    },
    {
      "cell_type": "code",
      "source": [
        "transform = transforms.Compose([\n",
        "    transforms.ToTensor(),\n",
        "    transforms.Normalize(mean=[0.5, 0.5, 0.5], std=[0.5, 0.5, 0.5])\n",
        "])\n",
        "\n",
        "train_data = datasets.CIFAR10(root='./data', train=True, download=True, transform=transform)\n",
        "test_data = datasets.CIFAR10(root='./data', train=False, download=True, transform=transform)"
      ],
      "metadata": {
        "colab": {
          "base_uri": "https://localhost:8080/"
        },
        "id": "NNXNb6wiPQ6F",
        "outputId": "988c6976-5b74-407f-ad5c-9e2125943ca6"
      },
      "execution_count": null,
      "outputs": [
        {
          "output_type": "stream",
          "name": "stdout",
          "text": [
            "Downloading https://www.cs.toronto.edu/~kriz/cifar-10-python.tar.gz to ./data/cifar-10-python.tar.gz\n"
          ]
        },
        {
          "output_type": "stream",
          "name": "stderr",
          "text": [
            "100%|██████████| 170M/170M [00:05<00:00, 31.4MB/s]\n"
          ]
        },
        {
          "output_type": "stream",
          "name": "stdout",
          "text": [
            "Extracting ./data/cifar-10-python.tar.gz to ./data\n",
            "Files already downloaded and verified\n"
          ]
        }
      ]
    },
    {
      "cell_type": "code",
      "source": [
        "X_train = torch.tensor(train_data.data, dtype=torch.float32)\n",
        "y_train = torch.tensor(train_data.targets,dtype = torch.float32)\n",
        "\n",
        "X_test = torch.tensor(test_data.data, dtype=torch.float32)\n",
        "y_test = torch.tensor(test_data.targets,dtype = torch.float32)"
      ],
      "metadata": {
        "id": "VwqjtKpTnyOd"
      },
      "execution_count": null,
      "outputs": []
    },
    {
      "cell_type": "code",
      "source": [
        "X_train = X_train.permute(0,3,1,2)\n",
        "X_test = X_test.permute(0,3,1,2)"
      ],
      "metadata": {
        "id": "XQPva_1coL16"
      },
      "execution_count": null,
      "outputs": []
    },
    {
      "cell_type": "code",
      "source": [
        "class CNNDataset(Dataset):\n",
        "  def __init__(self,X_train,y_train):\n",
        "    self.X_train = X_train\n",
        "    self.y_train = y_train\n",
        "\n",
        "  def __len__(self):\n",
        "\n",
        "    return len(self.y_train)\n",
        "\n",
        "  def __getitem__(self, idx):\n",
        "\n",
        "    return X_train[idx],y_train[idx]"
      ],
      "metadata": {
        "id": "rWI127pjPZ9T"
      },
      "execution_count": null,
      "outputs": []
    },
    {
      "cell_type": "code",
      "source": [
        "dataset = CNNDataset(X_train,y_train)\n",
        "\n",
        "dataloader = DataLoader(dataset, batch_size=100, shuffle=True)"
      ],
      "metadata": {
        "id": "X2yBSesPpoI0"
      },
      "execution_count": null,
      "outputs": []
    },
    {
      "cell_type": "code",
      "source": [
        "device = torch.device('cuda' if torch.cuda.is_available() else 'cpu')\n",
        "print(f\"Using device: {device}\")"
      ],
      "metadata": {
        "colab": {
          "base_uri": "https://localhost:8080/"
        },
        "id": "2ZrGxHNFNSUX",
        "outputId": "a6787d99-8c45-4aa4-a49e-3352240ca75f"
      },
      "execution_count": null,
      "outputs": [
        {
          "output_type": "stream",
          "name": "stdout",
          "text": [
            "Using device: cuda\n"
          ]
        }
      ]
    },
    {
      "cell_type": "code",
      "source": [
        "class CNNModel(nn.Module):\n",
        "  def __init__(self, num_classes):\n",
        "    super(CNNModel, self).__init__()\n",
        "\n",
        "    self.func1 = nn.Sequential(nn.Conv2d(3, 32, kernel_size=3, stride=1, padding=1),\n",
        "                           nn.ReLU(),\n",
        "                           nn.MaxPool2d(kernel_size=2, stride=2),\n",
        "                           nn.Conv2d(32, 64, kernel_size=3, stride=1, padding=1),\n",
        "                           nn.ReLU(),\n",
        "                           nn.MaxPool2d(kernel_size=2, stride=2),\n",
        "                           nn.Conv2d(64, 128, kernel_size=3, stride=1, padding=1),\n",
        "                           nn.ReLU(),\n",
        "                           nn.MaxPool2d(kernel_size=2, stride=2)\n",
        "                           )\n",
        "\n",
        "    self.func2 = nn.Sequential(nn.Linear(128*4*4, 256),\n",
        "                           nn.ReLU(),\n",
        "                           nn.Dropout(0.4),\n",
        "                           nn.Linear(256, num_classes)\n",
        "                           )\n",
        "\n",
        "\n",
        "  def forward(self, x):\n",
        "    x = self.func1(x)\n",
        "    x = x.view(x.size(0), -1)\n",
        "    x = self.func2(x)\n",
        "    return x"
      ],
      "metadata": {
        "id": "rju-ERkvpu_W"
      },
      "execution_count": null,
      "outputs": []
    },
    {
      "cell_type": "code",
      "source": [
        "model = CNNModel(num_classes=len(y_train.unique())).to(device)\n",
        "criterion = nn.CrossEntropyLoss()\n",
        "optimizer = optim.SGD(model.parameters(), lr=0.01)"
      ],
      "metadata": {
        "id": "letOQdgvvrZO"
      },
      "execution_count": null,
      "outputs": []
    },
    {
      "cell_type": "code",
      "source": [
        "for epoch in range(50):\n",
        "    model.train()\n",
        "    for images, labels in dataloader:\n",
        "        images, labels = images.to(device), labels.to(device)\n",
        "\n",
        "        outputs = model(images)\n",
        "        loss = criterion(outputs, labels.long())\n",
        "\n",
        "\n",
        "        optimizer.zero_grad()\n",
        "        loss.backward()\n",
        "        optimizer.step()\n",
        "\n",
        "    print(f\"Epoch [{epoch+1}/10], Loss: {loss.item():.4f}\")\n"
      ],
      "metadata": {
        "colab": {
          "base_uri": "https://localhost:8080/"
        },
        "id": "e0U8VnjWRi2n",
        "outputId": "3f3b6e95-7e10-4e97-e3f3-a12b59cf4a7d"
      },
      "execution_count": null,
      "outputs": [
        {
          "output_type": "stream",
          "name": "stdout",
          "text": [
            "Epoch [1/10], Loss: 1.5535\n",
            "Epoch [2/10], Loss: 1.5045\n",
            "Epoch [3/10], Loss: 1.2674\n",
            "Epoch [4/10], Loss: 1.4734\n",
            "Epoch [5/10], Loss: 1.1095\n",
            "Epoch [6/10], Loss: 0.9212\n",
            "Epoch [7/10], Loss: 0.8832\n",
            "Epoch [8/10], Loss: 0.8261\n",
            "Epoch [9/10], Loss: 0.7830\n",
            "Epoch [10/10], Loss: 0.7521\n",
            "Epoch [11/10], Loss: 0.6269\n",
            "Epoch [12/10], Loss: 0.8518\n",
            "Epoch [13/10], Loss: 0.6911\n",
            "Epoch [14/10], Loss: 0.7316\n",
            "Epoch [15/10], Loss: 0.6667\n",
            "Epoch [16/10], Loss: 0.5045\n",
            "Epoch [17/10], Loss: 0.5671\n",
            "Epoch [18/10], Loss: 0.4317\n",
            "Epoch [19/10], Loss: 0.3804\n",
            "Epoch [20/10], Loss: 0.6322\n",
            "Epoch [21/10], Loss: 0.5232\n",
            "Epoch [22/10], Loss: 0.2654\n",
            "Epoch [23/10], Loss: 0.2485\n",
            "Epoch [24/10], Loss: 0.4628\n",
            "Epoch [25/10], Loss: 0.3671\n",
            "Epoch [26/10], Loss: 0.3432\n",
            "Epoch [27/10], Loss: 0.3076\n",
            "Epoch [28/10], Loss: 0.1706\n",
            "Epoch [29/10], Loss: 0.2227\n",
            "Epoch [30/10], Loss: 0.2462\n",
            "Epoch [31/10], Loss: 0.2923\n",
            "Epoch [32/10], Loss: 0.1304\n",
            "Epoch [33/10], Loss: 0.2276\n",
            "Epoch [34/10], Loss: 0.1863\n",
            "Epoch [35/10], Loss: 0.2944\n",
            "Epoch [36/10], Loss: 0.1955\n",
            "Epoch [37/10], Loss: 0.1769\n",
            "Epoch [38/10], Loss: 0.1799\n",
            "Epoch [39/10], Loss: 0.2165\n",
            "Epoch [40/10], Loss: 0.3431\n",
            "Epoch [41/10], Loss: 0.1297\n",
            "Epoch [42/10], Loss: 0.0530\n",
            "Epoch [43/10], Loss: 0.2670\n",
            "Epoch [44/10], Loss: 0.1853\n",
            "Epoch [45/10], Loss: 0.1731\n",
            "Epoch [46/10], Loss: 0.1841\n",
            "Epoch [47/10], Loss: 0.1463\n",
            "Epoch [48/10], Loss: 0.1437\n",
            "Epoch [49/10], Loss: 0.2117\n",
            "Epoch [50/10], Loss: 0.0963\n"
          ]
        }
      ]
    },
    {
      "cell_type": "code",
      "source": [
        "correct = 0\n",
        "total = 0\n",
        "test_loader = DataLoader(dataset=CNNDataset(X_test,y_test), batch_size=100, shuffle=False)\n",
        "model.eval()\n",
        "\n",
        "with torch.no_grad():\n",
        "    for images, labels in test_loader:\n",
        "\n",
        "        images, labels = images.to(device), labels.to(device)\n",
        "\n",
        "\n",
        "        outputs = model(images)\n",
        "\n",
        "\n",
        "        _, predicted = torch.max(outputs, 1)\n",
        "\n",
        "        total += labels.size(0)\n",
        "        correct += (predicted == labels).sum().item()\n",
        "\n",
        "accuracy = 100 * correct / total\n",
        "print(f\"Accuracy on the test dataset: {accuracy:.2f}%\")"
      ],
      "metadata": {
        "colab": {
          "base_uri": "https://localhost:8080/"
        },
        "id": "VXbXIQpSTHRo",
        "outputId": "ee310b3f-d482-4607-d6fc-4ae68e5de682"
      },
      "execution_count": null,
      "outputs": [
        {
          "output_type": "stream",
          "name": "stdout",
          "text": [
            "Accuracy on the test dataset: 99.55%\n"
          ]
        }
      ]
    }
  ]
}